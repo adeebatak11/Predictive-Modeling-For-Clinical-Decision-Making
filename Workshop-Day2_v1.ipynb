{
 "cells": [
  {
   "cell_type": "markdown",
   "id": "20ca7716-fc2a-4fbb-9076-f240777394a7",
   "metadata": {},
   "source": [
    "# 📅 **Sarcopenia Workshop - Day 2: Model Optimization and Clinical Integration**\n",
    "\n",
    "## **🔖 Step 1: Recap and Objective Setting**\n",
    "\n",
    "\n",
    "---\n",
    "\n"
   ]
  },
  {
   "cell_type": "code",
   "execution_count": 38,
   "id": "c5fbcd6e-d444-4349-8f46-53e80290a4ff",
   "metadata": {
    "tags": []
   },
   "outputs": [
    {
     "name": "stdout",
     "output_type": "stream",
     "text": [
      "✅ Cleaned dataset loaded. Shape: (1132, 15)\n",
      "✅ Trained models for male and female loaded.\n",
      "   ID   Age  Gender  Weight  Height   DM    CST   HT    BMI  Exercise  \\\n",
      "0   0  56.0       0    83.0   159.0  0.0   9.10  1.0  32.80         0   \n",
      "1   1  52.0       0    75.0   162.0  1.0   9.30  0.0  28.58         0   \n",
      "2   2  67.0       0    79.0   150.0  1.0  11.32  1.0  35.11         0   \n",
      "3   3  60.0       0    60.0   155.0  0.0  11.20  0.0  24.97         2   \n",
      "4   4  66.0       0    84.0   157.0  1.0  13.40  1.0  34.00         0   \n",
      "\n",
      "   Education  Smoking  STAR   HGS  Sarc  \n",
      "0          1      0.0  1.26  34.0   0.0  \n",
      "1          4      0.0  1.63  28.0   0.0  \n",
      "2          1      0.0  1.03  22.0   0.0  \n",
      "3          1      0.0  1.78  28.0   0.0  \n",
      "4          1      0.0  0.74  16.0   1.0  \n",
      "📊 Data and models are ready for workflow analysis and improvements.\n"
     ]
    }
   ],
   "source": [
    "## **🔖 Step 1: Load Cleaned Data and Trained Models**\n",
    "import pandas as pd\n",
    "import joblib\n",
    "\n",
    "# Load cleaned dataset\n",
    "df = pd.read_csv(\"Cleaned_Sarcopenia_Data.csv\")\n",
    "print(f\"✅ Cleaned dataset loaded. Shape: {df.shape}\")\n",
    "\n",
    "# Load trained models\n",
    "pipeline_female = joblib.load(\"female_model.pkl\")\n",
    "pipeline_male = joblib.load(\"male_model.pkl\")\n",
    "print(\"✅ Trained models for male and female loaded.\")\n",
    "\n",
    "#---\n",
    "\n",
    "## **🔖 Step 2: Quick Data Overview**\n",
    "print(df.head())\n",
    "print(\"📊 Data and models are ready for workflow analysis and improvements.\")\n"
   ]
  },
  {
   "cell_type": "code",
   "execution_count": 39,
   "id": "f68e1fc0-38d1-44b9-9904-764edbcb27a6",
   "metadata": {
    "tags": []
   },
   "outputs": [],
   "source": [
    "from sklearn.preprocessing import StandardScaler, OneHotEncoder\n",
    "from sklearn.compose import ColumnTransformer\n",
    "from sklearn.pipeline import Pipeline\n",
    "from sklearn.ensemble import GradientBoostingClassifier\n",
    "from sklearn.model_selection import train_test_split\n",
    "# 📊 Define features\n",
    "numeric_features = ['Age', 'Weight', 'Height', 'CST', 'HGS', 'BMI']\n",
    "categorical_features = ['DM', 'HT', 'Exercise', 'Education', 'Smoking']\n",
    "target = 'Sarc'\n",
    "# 📊 Split data by Gender\n",
    "df_female = df[df['Gender'] == 0]\n",
    "df_male = df[df['Gender'] == 1]\n",
    "\n",
    "# 📊 Train-Test Split for Females\n",
    "X_female = df_female[numeric_features + categorical_features]\n",
    "y_female = df_female[target]\n",
    "X_train_female, X_test_female, y_train_female, y_test_female = train_test_split(X_female, y_female, test_size=0.2, random_state=42)\n",
    "\n",
    "# 📊 Train-Test Split for Males\n",
    "X_male = df_male[numeric_features + categorical_features]\n",
    "y_male = df_male[target]\n",
    "X_train_male, X_test_male, y_train_male, y_test_male = train_test_split(X_male, y_male, test_size=0.2, random_state=42)"
   ]
  },
  {
   "cell_type": "markdown",
   "id": "c6fd8b51-9311-4ce5-954e-60083ea3e8b6",
   "metadata": {},
   "source": [
    "## **🔖 Step 2: Improving the Model**"
   ]
  },
  {
   "cell_type": "code",
   "execution_count": 40,
   "id": "e140036b-fdd6-45b7-a7ee-b167fbd95722",
   "metadata": {
    "tags": []
   },
   "outputs": [
    {
     "name": "stdout",
     "output_type": "stream",
     "text": [
      "✅ Best Parameters (Female Model): {'classifier__learning_rate': 0.1, 'classifier__max_depth': 7, 'classifier__n_estimators': 200}\n"
     ]
    }
   ],
   "source": [
    "\n",
    "from sklearn.model_selection import GridSearchCV\n",
    "from sklearn.ensemble import GradientBoostingClassifier\n",
    "\n",
    "param_grid = {\n",
    "    'classifier__n_estimators': [100, 200, 300],\n",
    "    'classifier__learning_rate': [0.01, 0.1, 0.2],\n",
    "    'classifier__max_depth': [3, 5, 7]\n",
    "}\n",
    "\n",
    "grid_search = GridSearchCV(estimator=pipeline_female, param_grid=param_grid, cv=5, scoring='roc_auc')\n",
    "grid_search.fit(X_train_female, y_train_female)\n",
    "\n",
    "print(f\"✅ Best Parameters (Female Model): {grid_search.best_params_}\")\n",
    "\n"
   ]
  },
  {
   "cell_type": "markdown",
   "id": "7a9a9646-b11f-421d-b46f-4ae8f37c6e3e",
   "metadata": {
    "tags": []
   },
   "source": [
    "---\n",
    "\n",
    "## **🔖 Step 3: Predicting for Sample Patients**\n"
   ]
  },
  {
   "cell_type": "code",
   "execution_count": 41,
   "id": "5c621f97-2b46-426f-a92a-4a480a6c318f",
   "metadata": {
    "tags": []
   },
   "outputs": [
    {
     "name": "stdout",
     "output_type": "stream",
     "text": [
      "🔍 Predicted Sarcopenia Risk for Sample Patients:\n",
      "[5.58556046e-03 2.67397672e-06 1.42543863e-06]\n"
     ]
    }
   ],
   "source": [
    "sample_patients = pd.DataFrame({\n",
    "    'Age': [70, 62, 55],\n",
    "    'Weight': [68, 85, 72],\n",
    "    'Height': [160, 175, 168],\n",
    "    'CST': [13, 11, 10],\n",
    "    'HGS': [18, 28, 34],\n",
    "    'BMI': [26.5, 29.2, 25.4],\n",
    "    'DM': [1, 0, 1],\n",
    "    'HT': [0, 1, 0],\n",
    "    'Exercise': [1, 0, 2],\n",
    "    'Education': [3, 2, 4],\n",
    "    'Smoking': [0, 1, 0],\n",
    "    'Gender':[1,0,1]\n",
    "})\n",
    "\n",
    "predicted_risk = grid_search.best_estimator_.predict_proba(sample_patients.loc[:'Gender'])[:, 1]\n",
    "print(f\"🔍 Predicted Sarcopenia Risk for Sample Patients:\\n{predicted_risk}\")\n",
    "\n"
   ]
  },
  {
   "cell_type": "markdown",
   "id": "9d65b531-a276-49e6-a6dc-39ddc6924686",
   "metadata": {},
   "source": [
    "---\n",
    "\n",
    "## **🔖 Step 4: Implementing the Current Clinical Workflow**\n"
   ]
  },
  {
   "cell_type": "code",
   "execution_count": 47,
   "id": "cd4796ca-9bf5-4cba-a1c2-24f35e26d006",
   "metadata": {
    "tags": []
   },
   "outputs": [
    {
     "data": {
      "text/html": [
       "<div>\n",
       "<style scoped>\n",
       "    .dataframe tbody tr th:only-of-type {\n",
       "        vertical-align: middle;\n",
       "    }\n",
       "\n",
       "    .dataframe tbody tr th {\n",
       "        vertical-align: top;\n",
       "    }\n",
       "\n",
       "    .dataframe thead th {\n",
       "        text-align: right;\n",
       "    }\n",
       "</style>\n",
       "<table border=\"1\" class=\"dataframe\">\n",
       "  <thead>\n",
       "    <tr style=\"text-align: right;\">\n",
       "      <th></th>\n",
       "      <th>Age</th>\n",
       "      <th>Weight</th>\n",
       "      <th>Height</th>\n",
       "      <th>CST</th>\n",
       "      <th>HGS</th>\n",
       "      <th>BMI</th>\n",
       "      <th>DM</th>\n",
       "      <th>HT</th>\n",
       "      <th>Exercise</th>\n",
       "      <th>Education</th>\n",
       "      <th>Smoking</th>\n",
       "      <th>Gender</th>\n",
       "      <th>Clinical Decision</th>\n",
       "      <th>AI Decision</th>\n",
       "    </tr>\n",
       "  </thead>\n",
       "  <tbody>\n",
       "    <tr>\n",
       "      <th>0</th>\n",
       "      <td>70</td>\n",
       "      <td>68</td>\n",
       "      <td>160</td>\n",
       "      <td>13</td>\n",
       "      <td>18</td>\n",
       "      <td>26.5</td>\n",
       "      <td>1</td>\n",
       "      <td>0</td>\n",
       "      <td>1</td>\n",
       "      <td>3</td>\n",
       "      <td>0</td>\n",
       "      <td>1</td>\n",
       "      <td>Monitor with Ultrasound</td>\n",
       "      <td>No Sarcopenia</td>\n",
       "    </tr>\n",
       "    <tr>\n",
       "      <th>1</th>\n",
       "      <td>62</td>\n",
       "      <td>85</td>\n",
       "      <td>175</td>\n",
       "      <td>11</td>\n",
       "      <td>28</td>\n",
       "      <td>29.2</td>\n",
       "      <td>0</td>\n",
       "      <td>1</td>\n",
       "      <td>0</td>\n",
       "      <td>2</td>\n",
       "      <td>1</td>\n",
       "      <td>0</td>\n",
       "      <td>No Sarcopenia</td>\n",
       "      <td>No Sarcopenia</td>\n",
       "    </tr>\n",
       "    <tr>\n",
       "      <th>2</th>\n",
       "      <td>55</td>\n",
       "      <td>72</td>\n",
       "      <td>168</td>\n",
       "      <td>10</td>\n",
       "      <td>34</td>\n",
       "      <td>25.4</td>\n",
       "      <td>1</td>\n",
       "      <td>0</td>\n",
       "      <td>2</td>\n",
       "      <td>4</td>\n",
       "      <td>0</td>\n",
       "      <td>1</td>\n",
       "      <td>No Sarcopenia</td>\n",
       "      <td>No Sarcopenia</td>\n",
       "    </tr>\n",
       "  </tbody>\n",
       "</table>\n",
       "</div>"
      ],
      "text/plain": [
       "   Age  Weight  Height  CST  HGS   BMI  DM  HT  Exercise  Education  Smoking  \\\n",
       "0   70      68     160   13   18  26.5   1   0         1          3        0   \n",
       "1   62      85     175   11   28  29.2   0   1         0          2        1   \n",
       "2   55      72     168   10   34  25.4   1   0         2          4        0   \n",
       "\n",
       "   Gender        Clinical Decision    AI Decision  \n",
       "0       1  Monitor with Ultrasound  No Sarcopenia  \n",
       "1       0            No Sarcopenia  No Sarcopenia  \n",
       "2       1            No Sarcopenia  No Sarcopenia  "
      ]
     },
     "execution_count": 47,
     "metadata": {},
     "output_type": "execute_result"
    }
   ],
   "source": [
    "def clinical_workflow(patient):\n",
    "    if patient['Age'] >= 65:\n",
    "        if patient['CST'] >= 12:\n",
    "            return \"Monitor with Ultrasound\"\n",
    "        elif (patient['Gender'] == 1 and patient['HGS'] < 32) or (patient['Gender'] == 0 and patient['HGS'] < 19):\n",
    "            return \"Monitor with Ultrasound\"\n",
    "        else:\n",
    "            return \"No Sarcopenia\"\n",
    "    else:\n",
    "        if patient['HT'] == 1 or patient['DM'] == 1:\n",
    "            if patient['CST'] >= 12:\n",
    "                return \"Monitor with Ultrasound\"\n",
    "            elif (patient['Gender'] == 1 and patient['HGS'] < 32) or (patient['Gender'] == 0 and patient['HGS'] < 19):\n",
    "                return \"Monitor with Ultrasound\"\n",
    "            else:\n",
    "                return \"No Sarcopenia\"\n",
    "        else:\n",
    "            return \"No Sarcopenia\"\n",
    "\n",
    "sample_patients['Clinical Decision'] = sample_patients.apply(clinical_workflow, axis=1)\n",
    "sample_patients\n"
   ]
  },
  {
   "cell_type": "markdown",
   "id": "2756e76c-db2a-4850-8551-82a25c6d5203",
   "metadata": {},
   "source": [
    "---\n",
    "\n",
    "## **🔖 Step 5: AI-Augmented Workflow with Dual Thresholds**\n"
   ]
  },
  {
   "cell_type": "code",
   "execution_count": 48,
   "id": "28bf0eb1-a8bc-4b7d-b157-d66689690249",
   "metadata": {
    "tags": []
   },
   "outputs": [
    {
     "name": "stdout",
     "output_type": "stream",
     "text": [
      "   Age  CST  HGS  Gender        Clinical Decision    AI Decision\n",
      "0   70   13   18       1  Monitor with Ultrasound  No Sarcopenia\n",
      "1   62   11   28       0            No Sarcopenia  No Sarcopenia\n",
      "2   55   10   34       1            No Sarcopenia  No Sarcopenia\n"
     ]
    }
   ],
   "source": [
    "# Define high and low-risk thresholds\n",
    "high_risk_threshold = 0.7  # High-risk patients go directly to ultrasound\n",
    "low_risk_threshold = 0.3   # Low-risk patients are monitored without ultrasound\n",
    "\n",
    "# 📌 Updated AI-Augmented Workflow (Gender-Specific Models)\n",
    "def ai_augmented_workflow_dual_threshold_gender(patient_row):\n",
    "    features = ['Age', 'Weight', 'Height', 'CST', 'HGS', 'BMI', 'DM', 'HT', 'Exercise', 'Education', 'Smoking']\n",
    "    patient_features = pd.DataFrame([patient_row[features]])\n",
    "    \n",
    "    # Use the appropriate model based on gender\n",
    "    if patient_row['Gender'] == 0:  # Female\n",
    "        risk = pipeline_female.predict_proba(patient_features)[:, 1][0]\n",
    "    else:  # Male\n",
    "        risk = pipeline_male.predict_proba(patient_features)[:, 1][0]\n",
    "\n",
    "    # Apply dual thresholds\n",
    "    if risk >= high_risk_threshold:\n",
    "        return \"Sarcopenia\"\n",
    "    elif risk <= low_risk_threshold:\n",
    "        return \"No Sarcopenia\"\n",
    "    else:\n",
    "        return \"Monitor with Ultrasound\"\n",
    "\n",
    "# Apply the workflow to each patient in the sample\n",
    "sample_patients['AI Decision'] = sample_patients.apply(ai_augmented_workflow_dual_threshold, axis=1)\n",
    "\n",
    "# Display the updated DataFrame\n",
    "print(sample_patients[['Age', 'CST', 'HGS', 'Gender', 'Clinical Decision', 'AI Decision']])\n"
   ]
  },
  {
   "cell_type": "markdown",
   "id": "018ebac1-c636-4a54-ad8d-0c79a7551adc",
   "metadata": {},
   "source": [
    "---\n",
    "\n",
    "## **🔖 Step 6: Comparing Current vs. AI-Augmented Workflow**\n"
   ]
  },
  {
   "cell_type": "code",
   "execution_count": 50,
   "id": "185b6204-42df-4ef7-b0c0-9b2f58a075d9",
   "metadata": {
    "tags": []
   },
   "outputs": [
    {
     "name": "stdout",
     "output_type": "stream",
     "text": [
      "🔍 Clinical Workflow - Patients sent to Ultrasound: 434\n",
      "📊 AI-Augmented Workflow - Patients monitored with Ultrasound: 84\n"
     ]
    }
   ],
   "source": [
    "# 📊 Apply Both Workflows to the Entire Training Data\n",
    "train_data = df.copy()\n",
    "\n",
    "train_data['Clinical Decision'] = train_data.apply(clinical_workflow, axis=1)\n",
    "train_data['AI Decision'] = train_data.apply(ai_augmented_workflow_dual_threshold_gender, axis=1)\n",
    "\n",
    "# 📈 Compare Results\n",
    "clinical_ultrasound_count = train_data[train_data['Clinical Decision'] == \"Monitor with Ultrasound\"].shape[0]\n",
    "ai_monitor_count = train_data[train_data['AI Decision'] == \"Monitor with Ultrasound\"].shape[0]\n",
    "\n",
    "print(f\"🔍 Clinical Workflow - Patients sent to Ultrasound: {clinical_ultrasound_count}\")\n",
    "print(f\"📊 AI-Augmented Workflow - Patients monitored with Ultrasound: {ai_monitor_count}\")"
   ]
  },
  {
   "cell_type": "markdown",
   "id": "9e9a06a5-0483-4908-924a-10d3f122bcc8",
   "metadata": {},
   "source": [
    "---\n",
    "\n",
    "## **🔖 Step 7: Benefits of AI in Clinical Decision-Making**\n"
   ]
  },
  {
   "cell_type": "code",
   "execution_count": 52,
   "id": "757ab5f4-5396-45cc-9f17-570653bc392a",
   "metadata": {
    "tags": []
   },
   "outputs": [
    {
     "name": "stdout",
     "output_type": "stream",
     "text": [
      "📌 AI Benefits:\n",
      "- Reduced unnecessary ultrasound scans.\n",
      "- Earlier detection of high-risk patients.\n",
      "- Optimized resource allocation.\n"
     ]
    }
   ],
   "source": [
    "print(\"📌 AI Benefits:\")\n",
    "print(\"- Reduced unnecessary ultrasound scans.\")\n",
    "print(\"- Earlier detection of high-risk patients.\")\n",
    "print(\"- Optimized resource allocation.\")\n",
    "\n"
   ]
  },
  {
   "cell_type": "markdown",
   "id": "b32b2628-c516-4e6d-a901-c40ffb723407",
   "metadata": {},
   "source": [
    "---\n",
    "\n",
    "## **🔖 Step 8: Final Thoughts and Q&A**\n"
   ]
  },
  {
   "cell_type": "code",
   "execution_count": 53,
   "id": "ad119a3e-87f7-4730-a0d5-289b84739787",
   "metadata": {
    "tags": []
   },
   "outputs": [
    {
     "name": "stdout",
     "output_type": "stream",
     "text": [
      "✅ Workshop Completed! Thank you for participating.\n"
     ]
    }
   ],
   "source": [
    "print(\"✅ Workshop Completed! Thank you for participating.\")\n"
   ]
  },
  {
   "cell_type": "code",
   "execution_count": null,
   "id": "26473454-f1c2-4bca-8da8-ca036736605f",
   "metadata": {},
   "outputs": [],
   "source": []
  }
 ],
 "metadata": {
  "kernelspec": {
   "display_name": "Python 3 (ipykernel)",
   "language": "python",
   "name": "python3"
  },
  "language_info": {
   "codemirror_mode": {
    "name": "ipython",
    "version": 3
   },
   "file_extension": ".py",
   "mimetype": "text/x-python",
   "name": "python",
   "nbconvert_exporter": "python",
   "pygments_lexer": "ipython3",
   "version": "3.11.4"
  }
 },
 "nbformat": 4,
 "nbformat_minor": 5
}
